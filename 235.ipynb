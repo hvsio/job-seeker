{
 "cells": [
  {
   "cell_type": "markdown",
   "id": "db546909-c64d-4274-98ae-fc3d0dcbe62f",
   "metadata": {},
   "source": [
    "# Module 2: Fundamentals of Data Engineering"
   ]
  },
  {
   "cell_type": "markdown",
   "id": "919e1b23-cb96-4c9c-ae4b-f440bc7d7e08",
   "metadata": {},
   "source": [
    "## Sprint 3: Working with Data Pipelines & Apache Airflow"
   ]
  },
  {
   "cell_type": "markdown",
   "id": "afdb90bd-8e15-4a2e-88ec-f486984e5f50",
   "metadata": {},
   "source": [
    "## Part 5: Job Application System"
   ]
  },
  {
   "cell_type": "markdown",
   "id": "cbb76648-02bd-4ef5-931e-1fa222435c40",
   "metadata": {},
   "source": [
    "## About this Part\n\nCongratulations! You've reached the final Part of this Sprint.\nThis Part serves as an integrative experience, allowing you to apply the knowledge and skills acquired in this and previous Sprints.\n\nAs the culmination of this Sprint, you'll construct a system that routinely retrieves job listing data and stores it in a Relational Database Management System (RDBMS).\n\nSprint projects often necessitate the use of skills, tools, and techniques not explicitly covered during the Sprint.\nThis is intentional, as true expertise stems from the ability to recognize the skills needed to solve a given problem and to acquire these skills as necessary.\n\nRemember, perfection isn't expected at this stage.\nYou will continuously hone your skills and have ample opportunities to apply them in future projects.\nFor now, focus on leveraging what you've learned and giving it your best effort!\n\n## Context\n\nWith all the new data engineering skills that you have gained you've decided that it is about time to start looking for a job.\nAs a first step, you want to do an analysis of the job market to evaluate the demand.\nTo gather the data for this analysis, you decided to aggregate job ads from multiple sources like [Remotive](https://remotive.com), [We Work Remotely](https://weworkremotely.com), etc.\n\nYou decided to have (at least) this information in your database:\n- Job title\n- Name of the company\n- Link to the job ad\n- Job type (full-time, part-time, contract, etc.)\n- Region (anywhere in the World, Europe, etc.)\n- Salary (in Eur)\n- Timestamp, when the job ad was posted\n\nYou also decided to have calculate these metrics in your database:\n- The number of new job ads that contain \"data engineer\" in the title (per day).\n- The number of new job ads that contain \"data engineer\" in the title and are remote friendly (per day).\n- The maximum, minimum, average, and standard deviation of salaries of job ads that contain \"data engineer\" in the title (total and per day).\n\nNote: You are not limited to using APIs - you can also scrape the data from websites or ingest files. You are also not limited to just three sources - use as many as you want.\n\n## Objectives for this Part\n\n- Practice ingesting data from multiple sources.\n- Practice orchestrating jobs using Apache Airflow.\n- Practice setting up and managing an RDBMS.\n- Practice building custom Apache Airflow operators.\n\n## Requirements\n\n- Your solution should encompass the functionality outlined in the Context section.\n- You must ingest data from at least three different data sources.\n- Your solution must be modular (e.g. each data source should be ingested using a separate Airflow Task).\n- Offer insights on how your analysis could be improved.\n\n## Bonus\n\n- Implement custom Airflow sensors. It might require some creative thinking on where to implement them but you are determined to do it even if this means that you are overengineering things.\n- You want to show this project in the interviews as part of your portfolio. Hence, you decided to set up your solution for production. Implement logging, regular backups and error handling. In addition, suggest an approach to monitor the system and potentially implement it. \n\n## Evaluation Criteria\n\n- Adherence to the requirements. How well did you meet the requirements?\n- Code quality. Was your code well-structured? Did you use the appropriate levels of abstraction? Did you remove commented-out and unused code?\n- System design. Did your solution use suitable technologies, tools, software architecture, and algorithms?\n- Presentation quality. How comprehensive is your presentation, and how well are you able to explain your solution to the target audience?\n- Conceptual understanding. How well do you know the concepts covered in this and previous Sprints?\n\n## Correction\n\nDuring your project correction, you should present it as if talking to a potential employer for whom you are showcasing your solution.  \nYou can assume that they will have decent software and data engineering skills - they will understand technical jargon and are expected to notice and question things that could have been done better or ask about the choices you've made.\nWhile they are not familiar with the problem, the project purpose is easy to understand - your best bet is to focus your presentation on technological and design choices.\n\nDuring the presentation, you might be asked questions to test your understanding of the covered topics, such as:\n\n- How multiple processes communicate with each other in Python?\n- What is GIL? Explain why is it important to release the GIL for a Python thread?\n- What do we mean when we say that an object is awaitable in Python? Which objects are awaitable and which are not?\n- What is `hasattr` in Python? How does it work?\n- What is the purpose of the `object.__dict__` construct in Python?\n\nIMPORTANT: during the correction, you will also be asked to solve an exercise using Python.\n"
   ]
  },
  {
   "cell_type": "markdown",
   "id": "c2bc61c5-2faf-49ce-a10b-e0779b843819",
   "metadata": {},
   "source": [
    "## General Correction Guidelines\n\nFor an in-depth explanation about how corrections work at Turing College, please read [this doc](https://turingcollege.atlassian.net/wiki/spaces/DLG/pages/537395951/Peer+expert+reviews+corrections).\n"
   ]
  }
 ],
 "metadata": {
  "kernelspec": {
   "display_name": "Python 3",
   "language": "python",
   "name": "python3"
  },
  "language_info": {
   "codemirror_mode": {
    "name": "ipython",
    "version": 3
   },
   "file_extension": ".py",
   "mimetype": "text/x-python",
   "name": "python",
   "nbconvert_exporter": "python",
   "pygments_lexer": "ipython3",
   "version": "3.9.5"
  }
 },
 "nbformat": 4,
 "nbformat_minor": 5
}
